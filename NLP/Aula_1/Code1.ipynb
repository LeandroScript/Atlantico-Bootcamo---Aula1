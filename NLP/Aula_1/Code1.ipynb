{
  "nbformat": 4,
  "nbformat_minor": 0,
  "metadata": {
    "colab": {
      "name": "Code1",
      "provenance": []
    },
    "kernelspec": {
      "name": "python3",
      "display_name": "Python 3"
    },
    "language_info": {
      "name": "python"
    }
  },
  "cells": [
    {
      "cell_type": "code",
      "execution_count": 1,
      "metadata": {
        "id": "DREHNypEW4xV"
      },
      "outputs": [],
      "source": [
        "import re\n",
        "# Write a pattern to match sentence endings: sentence_endings\n",
        "my_string = \"Let's write RegEx!  Won't that be fun?  \" \\\n",
        "            \"I sure think so.  Can you find 4 sentences? \" \\\n",
        "            \"Or perhaps, all 19 words?\"\n",
        "\n",
        "\n"
      ]
    },
    {
      "cell_type": "code",
      "source": [
        "sentence_endings = r\"[.!?]\"\n",
        "\n",
        "# Split my_string on sentence endings and print the result\n",
        "print(re.split(sentence_endings, my_string))\n",
        "\n"
      ],
      "metadata": {
        "colab": {
          "base_uri": "https://localhost:8080/"
        },
        "id": "uFUAvfYoa4uE",
        "outputId": "9320439e-6908-43d6-d339-93ed352759ed"
      },
      "execution_count": 3,
      "outputs": [
        {
          "output_type": "stream",
          "name": "stdout",
          "text": [
            "[\"Let's write RegEx\", \"  Won't that be fun\", '  I sure think so', '  Can you find 4 sentences', ' Or perhaps, all 19 words', '']\n"
          ]
        }
      ]
    },
    {
      "cell_type": "code",
      "source": [
        "# Find all capitalized words in my_string and print the result\n",
        "capitalized_words = r\"[A-Z]\\w+\"\n",
        "print(re.findall(capitalized_words, my_string))"
      ],
      "metadata": {
        "colab": {
          "base_uri": "https://localhost:8080/"
        },
        "id": "TZCr_5CWa64d",
        "outputId": "c4b61ecd-ca7f-4ff9-8dbf-31d8b6f1b5da"
      },
      "execution_count": 5,
      "outputs": [
        {
          "output_type": "stream",
          "name": "stdout",
          "text": [
            "['Let', 'RegEx', 'Won', 'Can', 'Or']\n"
          ]
        }
      ]
    },
    {
      "cell_type": "code",
      "source": [
        "# Split my_string on spaces and print the result\n",
        "spaces = r\"\\s+\"\n",
        "print(re.split(spaces, my_string))"
      ],
      "metadata": {
        "colab": {
          "base_uri": "https://localhost:8080/"
        },
        "id": "zaJZIGJFcz_e",
        "outputId": "a2d5d1de-b1d7-4612-a9f9-2f157da472f0"
      },
      "execution_count": 6,
      "outputs": [
        {
          "output_type": "stream",
          "name": "stdout",
          "text": [
            "[\"Let's\", 'write', 'RegEx!', \"Won't\", 'that', 'be', 'fun?', 'I', 'sure', 'think', 'so.', 'Can', 'you', 'find', '4', 'sentences?', 'Or', 'perhaps,', 'all', '19', 'words?']\n"
          ]
        }
      ]
    },
    {
      "cell_type": "code",
      "source": [
        "# Find all digits in my_string and print the result\n",
        "digits = r\"\\d+\"\n",
        "print(re.findall(digits, my_string))"
      ],
      "metadata": {
        "colab": {
          "base_uri": "https://localhost:8080/"
        },
        "id": "jiemCTb2c1s8",
        "outputId": "9a8e3d76-a6bc-46ac-dfd5-30f4734cec60"
      },
      "execution_count": 7,
      "outputs": [
        {
          "output_type": "stream",
          "name": "stdout",
          "text": [
            "['4', '19']\n"
          ]
        }
      ]
    }
  ]
}